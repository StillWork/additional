{
  "nbformat": 4,
  "nbformat_minor": 0,
  "metadata": {
    "colab": {
      "name": "gi_1_키몸무게클러스터링_스케일링.ipynb",
      "provenance": [],
      "collapsed_sections": [],
      "include_colab_link": true
    },
    "kernelspec": {
      "display_name": "Python 3",
      "language": "python",
      "name": "python3"
    },
    "language_info": {
      "codemirror_mode": {
        "name": "ipython",
        "version": 3
      },
      "file_extension": ".py",
      "mimetype": "text/x-python",
      "name": "python",
      "nbconvert_exporter": "python",
      "pygments_lexer": "ipython3",
      "version": "3.7.6"
    }
  },
  "cells": [
    {
      "cell_type": "markdown",
      "metadata": {
        "id": "view-in-github",
        "colab_type": "text"
      },
      "source": [
        "<a href=\"https://colab.research.google.com/github/StillWork/additional/blob/master/gi_1_%E1%84%8F%E1%85%B5%E1%84%86%E1%85%A9%E1%86%B7%E1%84%86%E1%85%AE%E1%84%80%E1%85%A6%E1%84%8F%E1%85%B3%E1%86%AF%E1%84%85%E1%85%A5%E1%84%89%E1%85%B3%E1%84%90%E1%85%A5%E1%84%85%E1%85%B5%E1%86%BC_%E1%84%89%E1%85%B3%E1%84%8F%E1%85%A6%E1%84%8B%E1%85%B5%E1%86%AF%E1%84%85%E1%85%B5%E1%86%BC.ipynb\" target=\"_parent\"><img src=\"https://colab.research.google.com/assets/colab-badge.svg\" alt=\"Open In Colab\"/></a>"
      ]
    },
    {
      "cell_type": "markdown",
      "metadata": {
        "colab_type": "text",
        "id": "5iXh7J0ANXk8"
      },
      "source": [
        "# 클러스터링, 스케일링\n"
      ]
    },
    {
      "cell_type": "code",
      "metadata": {
        "colab_type": "code",
        "id": "bvr0OsaQNrWu",
        "colab": {}
      },
      "source": [
        "import numpy as np\n",
        "import pandas as pd\n",
        "import matplotlib.pyplot as plt\n",
        "%matplotlib inline\n",
        "%config InlineBackend.figure_format = 'retina'"
      ],
      "execution_count": 0,
      "outputs": []
    },
    {
      "cell_type": "markdown",
      "metadata": {
        "colab_type": "text",
        "id": "OTrfjAY6N6_F"
      },
      "source": [
        "## 선형회귀 모델 사용"
      ]
    },
    {
      "cell_type": "markdown",
      "metadata": {
        "colab_type": "text",
        "id": "_hKNw3yJQebh"
      },
      "source": [
        "## 키-몸무게-운동선수"
      ]
    },
    {
      "cell_type": "code",
      "metadata": {
        "colab_type": "code",
        "id": "dEWvPXlnPK4N",
        "outputId": "5dd19ba0-8b28-4771-f458-27255ea2d136",
        "colab": {
          "base_uri": "https://localhost:8080/",
          "height": 269
        }
      },
      "source": [
        "import numpy as np\n",
        "import pandas as pd\n",
        "import matplotlib.pyplot as plt\n",
        "\n",
        "n_samples = 100\n",
        "x1 = 5*np.random.randn(n_samples) + 190\n",
        "x2 = 4*np.random.randn(n_samples) + 180\n",
        "\n",
        "z1 = 4*np.random.randn(n_samples) + 80\n",
        "z2 = 4*np.random.randn(n_samples) + 70\n",
        "plt.hist(x1, bins=30)\n",
        "plt.hist(x2, bins=30)\n",
        "\n",
        "plt.hist(z1, bins=30)\n",
        "plt.hist(z2, bins=30)\n",
        "plt.show()"
      ],
      "execution_count": 0,
      "outputs": [
        {
          "output_type": "display_data",
          "data": {
            "image/png": "[encoded data removed]",
            "text/plain": [
              "<Figure size 432x288 with 1 Axes>"
            ]
          },
          "metadata": {
            "tags": [],
            "image/png": {
              "height": 248,
              "width": 369
            },
            "needs_background": "light"
          }
        }
      ]
    },
    {
      "cell_type": "code",
      "metadata": {
        "id": "SJ5DjP462Y-y",
        "colab_type": "code",
        "colab": {}
      },
      "source": [
        "x = np.concatenate((x1, x2))\n",
        "z = np.concatenate((z1, z2))\n",
        "y = n_samples*[0] + n_samples*[1]"
      ],
      "execution_count": 0,
      "outputs": []
    },
    {
      "cell_type": "code",
      "metadata": {
        "scrolled": false,
        "id": "vQp5Z1Vr2Y-0",
        "colab_type": "code",
        "colab": {},
        "outputId": "93751de3-285a-4775-ddfa-596242dbcc7b"
      },
      "source": [
        "import pandas as pd\n",
        "df = pd.DataFrame([x,z,y]).T\n",
        "df.columns = ['H','W','S']\n",
        "df"
      ],
      "execution_count": 0,
      "outputs": [
        {
          "output_type": "execute_result",
          "data": {
            "text/html": [
              "<div>\n",
              "<style scoped>\n",
              "    .dataframe tbody tr th:only-of-type {\n",
              "        vertical-align: middle;\n",
              "    }\n",
              "\n",
              "    .dataframe tbody tr th {\n",
              "        vertical-align: top;\n",
              "    }\n",
              "\n",
              "    .dataframe thead th {\n",
              "        text-align: right;\n",
              "    }\n",
              "</style>\n",
              "<table border=\"1\" class=\"dataframe\">\n",
              "  <thead>\n",
              "    <tr style=\"text-align: right;\">\n",
              "      <th></th>\n",
              "      <th>H</th>\n",
              "      <th>W</th>\n",
              "      <th>S</th>\n",
              "    </tr>\n",
              "  </thead>\n",
              "  <tbody>\n",
              "    <tr>\n",
              "      <th>0</th>\n",
              "      <td>192.265797</td>\n",
              "      <td>79.092105</td>\n",
              "      <td>0.0</td>\n",
              "    </tr>\n",
              "    <tr>\n",
              "      <th>1</th>\n",
              "      <td>196.526350</td>\n",
              "      <td>76.745468</td>\n",
              "      <td>0.0</td>\n",
              "    </tr>\n",
              "    <tr>\n",
              "      <th>2</th>\n",
              "      <td>185.326996</td>\n",
              "      <td>83.244557</td>\n",
              "      <td>0.0</td>\n",
              "    </tr>\n",
              "    <tr>\n",
              "      <th>3</th>\n",
              "      <td>198.937411</td>\n",
              "      <td>80.258399</td>\n",
              "      <td>0.0</td>\n",
              "    </tr>\n",
              "    <tr>\n",
              "      <th>4</th>\n",
              "      <td>185.483519</td>\n",
              "      <td>80.199298</td>\n",
              "      <td>0.0</td>\n",
              "    </tr>\n",
              "    <tr>\n",
              "      <th>...</th>\n",
              "      <td>...</td>\n",
              "      <td>...</td>\n",
              "      <td>...</td>\n",
              "    </tr>\n",
              "    <tr>\n",
              "      <th>195</th>\n",
              "      <td>181.079167</td>\n",
              "      <td>64.257420</td>\n",
              "      <td>1.0</td>\n",
              "    </tr>\n",
              "    <tr>\n",
              "      <th>196</th>\n",
              "      <td>183.285314</td>\n",
              "      <td>71.699957</td>\n",
              "      <td>1.0</td>\n",
              "    </tr>\n",
              "    <tr>\n",
              "      <th>197</th>\n",
              "      <td>175.621388</td>\n",
              "      <td>72.524050</td>\n",
              "      <td>1.0</td>\n",
              "    </tr>\n",
              "    <tr>\n",
              "      <th>198</th>\n",
              "      <td>184.191211</td>\n",
              "      <td>75.488929</td>\n",
              "      <td>1.0</td>\n",
              "    </tr>\n",
              "    <tr>\n",
              "      <th>199</th>\n",
              "      <td>183.038683</td>\n",
              "      <td>67.808779</td>\n",
              "      <td>1.0</td>\n",
              "    </tr>\n",
              "  </tbody>\n",
              "</table>\n",
              "<p>200 rows × 3 columns</p>\n",
              "</div>"
            ],
            "text/plain": [
              "              H          W    S\n",
              "0    192.265797  79.092105  0.0\n",
              "1    196.526350  76.745468  0.0\n",
              "2    185.326996  83.244557  0.0\n",
              "3    198.937411  80.258399  0.0\n",
              "4    185.483519  80.199298  0.0\n",
              "..          ...        ...  ...\n",
              "195  181.079167  64.257420  1.0\n",
              "196  183.285314  71.699957  1.0\n",
              "197  175.621388  72.524050  1.0\n",
              "198  184.191211  75.488929  1.0\n",
              "199  183.038683  67.808779  1.0\n",
              "\n",
              "[200 rows x 3 columns]"
            ]
          },
          "metadata": {
            "tags": []
          },
          "execution_count": 5
        }
      ]
    },
    {
      "cell_type": "code",
      "metadata": {
        "id": "DaJ3GCn72Y-3",
        "colab_type": "code",
        "colab": {},
        "outputId": "3f7b6a94-78d8-46fb-9a21-70e87f6f85f6"
      },
      "source": [
        "import matplotlib.pyplot as plt\n",
        "plt.scatter(x,z,c=y)"
      ],
      "execution_count": 0,
      "outputs": [
        {
          "output_type": "execute_result",
          "data": {
            "text/plain": [
              "<matplotlib.collections.PathCollection at 0x11eeca890>"
            ]
          },
          "metadata": {
            "tags": []
          },
          "execution_count": 6
        },
        {
          "output_type": "display_data",
          "data": {
            "image/png": "[encoded data removed]",
            "text/plain": [
              "<Figure size 432x288 with 1 Axes>"
            ]
          },
          "metadata": {
            "tags": [],
            "image/png": {
              "height": 248,
              "width": 375
            },
            "needs_background": "light"
          }
        }
      ]
    },
    {
      "cell_type": "code",
      "metadata": {
        "id": "ReWBn2bp2Y-6",
        "colab_type": "code",
        "colab": {},
        "outputId": "594b60fd-3905-4b6f-df54-3d6b36227ec4"
      },
      "source": [
        "from sklearn.cluster import KMeans\n",
        "X = df[['H','W']]\n",
        "k = KMeans(n_clusters=2).fit(X)\n",
        "k.labels_"
      ],
      "execution_count": 0,
      "outputs": [
        {
          "output_type": "execute_result",
          "data": {
            "text/plain": [
              "array([1, 1, 1, 1, 1, 0, 1, 1, 1, 1, 1, 1, 1, 1, 1, 1, 1, 1, 1, 1, 1, 1,\n",
              "       1, 1, 1, 1, 1, 1, 1, 1, 1, 1, 1, 1, 1, 1, 1, 1, 1, 1, 1, 1, 1, 1,\n",
              "       1, 1, 1, 1, 1, 1, 1, 1, 1, 1, 1, 1, 1, 1, 1, 1, 0, 0, 1, 1, 1, 1,\n",
              "       1, 1, 1, 1, 1, 1, 1, 1, 1, 1, 1, 1, 1, 1, 1, 1, 1, 1, 1, 1, 1, 1,\n",
              "       1, 1, 1, 1, 1, 1, 1, 1, 1, 1, 1, 1, 0, 0, 1, 0, 0, 0, 0, 0, 0, 0,\n",
              "       0, 0, 0, 0, 0, 0, 0, 0, 0, 0, 0, 0, 0, 0, 0, 0, 0, 0, 0, 0, 0, 0,\n",
              "       0, 0, 0, 0, 0, 0, 0, 0, 0, 0, 1, 0, 0, 0, 0, 0, 0, 0, 0, 0, 0, 0,\n",
              "       0, 0, 0, 0, 0, 0, 0, 0, 0, 0, 0, 0, 0, 0, 0, 0, 0, 0, 0, 0, 0, 0,\n",
              "       0, 0, 0, 0, 0, 0, 0, 0, 0, 0, 0, 0, 0, 0, 0, 0, 0, 0, 0, 0, 0, 0,\n",
              "       0, 0], dtype=int32)"
            ]
          },
          "metadata": {
            "tags": []
          },
          "execution_count": 7
        }
      ]
    },
    {
      "cell_type": "code",
      "metadata": {
        "id": "xiWRhnuW2Y-8",
        "colab_type": "code",
        "colab": {},
        "outputId": "2cbc0262-56fd-4ddd-9332-cba009dffad9"
      },
      "source": [
        "plt.scatter(x,z,c=k.predict(X))"
      ],
      "execution_count": 0,
      "outputs": [
        {
          "output_type": "execute_result",
          "data": {
            "text/plain": [
              "<matplotlib.collections.PathCollection at 0x1a21e908d0>"
            ]
          },
          "metadata": {
            "tags": []
          },
          "execution_count": 8
        },
        {
          "output_type": "display_data",
          "data": {
            "image/png": "[encoded data removed]",
            "text/plain": [
              "<Figure size 432x288 with 1 Axes>"
            ]
          },
          "metadata": {
            "tags": [],
            "image/png": {
              "height": 248,
              "width": 375
            },
            "needs_background": "light"
          }
        }
      ]
    },
    {
      "cell_type": "code",
      "metadata": {
        "id": "vWEjzv3D2Y_A",
        "colab_type": "code",
        "colab": {},
        "outputId": "a9a7f817-4ce0-4c18-e344-6eebf4970e68"
      },
      "source": [
        "(k.predict(X) == y).mean()"
      ],
      "execution_count": 0,
      "outputs": [
        {
          "output_type": "execute_result",
          "data": {
            "text/plain": [
              "0.025"
            ]
          },
          "metadata": {
            "tags": []
          },
          "execution_count": 9
        }
      ]
    },
    {
      "cell_type": "code",
      "metadata": {
        "id": "srBcdFTn2Y_C",
        "colab_type": "code",
        "colab": {},
        "outputId": "8b227f86-35f3-4029-e171-916ffa551434"
      },
      "source": [
        "from sklearn.preprocessing import StandardScaler\n",
        "sc = StandardScaler()\n",
        "X_sc = sc.fit_transform(X)\n",
        "X_sc"
      ],
      "execution_count": 0,
      "outputs": [
        {
          "output_type": "execute_result",
          "data": {
            "text/plain": [
              "array([[ 1.14477890e+00,  6.36012491e-01],\n",
              "       [ 1.82844099e+00,  2.82174074e-01],\n",
              "       [ 3.13563414e-02,  1.26214098e+00],\n",
              "       [ 2.21532774e+00,  8.11872368e-01],\n",
              "       [ 5.64725425e-02,  8.02960782e-01],\n",
              "       [ 3.09085204e-01, -9.61965149e-01],\n",
              "       [ 1.14073262e+00,  1.79632181e-01],\n",
              "       [ 1.14897768e+00,  8.97195042e-01],\n",
              "       [ 5.94346774e-01, -1.41371187e-01],\n",
              "       [ 9.56725822e-01,  1.20705858e+00],\n",
              "       [ 1.61666641e+00,  1.97361699e+00],\n",
              "       [ 1.35569122e+00, -5.48332754e-01],\n",
              "       [ 1.90854075e+00, -6.90589419e-02],\n",
              "       [ 1.52423090e-01,  1.34355673e+00],\n",
              "       [ 7.65077439e-01,  1.22501572e+00],\n",
              "       [ 1.51089516e+00,  1.78553727e-01],\n",
              "       [ 1.31040846e+00,  7.57337586e-01],\n",
              "       [ 8.33182728e-01,  3.57137357e-01],\n",
              "       [ 1.03897429e+00,  9.76079280e-01],\n",
              "       [ 2.93884029e-01,  9.81667343e-01],\n",
              "       [-7.72178137e-01,  9.97561206e-01],\n",
              "       [ 1.15382066e+00,  7.71813365e-01],\n",
              "       [ 2.46040910e-01,  1.24701326e+00],\n",
              "       [ 2.19773012e+00,  1.03565601e+00],\n",
              "       [-1.83864754e-01,  1.94493731e+00],\n",
              "       [ 1.68606098e-01,  1.01975969e+00],\n",
              "       [ 8.56202910e-01,  1.86646390e-01],\n",
              "       [ 8.91237377e-01,  1.75219127e+00],\n",
              "       [ 4.23248954e-01,  7.83824571e-01],\n",
              "       [ 6.37815575e-01,  1.34548559e+00],\n",
              "       [ 1.95697568e-01,  3.30832733e-02],\n",
              "       [ 5.59000952e-01,  1.00508767e+00],\n",
              "       [ 5.14069337e-01,  7.55906496e-01],\n",
              "       [ 2.04253829e+00,  1.98139470e+00],\n",
              "       [ 7.72342572e-01, -9.90902641e-02],\n",
              "       [-1.20816816e+00,  1.45632225e+00],\n",
              "       [ 6.99681715e-01,  2.77702699e-01],\n",
              "       [ 1.32788447e+00, -8.68321933e-01],\n",
              "       [ 1.09489259e+00,  1.18015020e+00],\n",
              "       [ 1.36302151e+00,  4.94296927e-01],\n",
              "       [ 9.92534213e-01,  1.19364794e+00],\n",
              "       [ 1.45083441e+00,  1.57126697e-01],\n",
              "       [-3.03404048e-01,  1.04940103e+00],\n",
              "       [ 6.28872771e-01,  4.70250188e-01],\n",
              "       [ 6.12658861e-01, -6.84773610e-02],\n",
              "       [ 1.27050102e+00,  1.71915240e+00],\n",
              "       [ 1.51467438e+00,  1.41647146e+00],\n",
              "       [ 3.78995720e-01,  1.47148801e+00],\n",
              "       [ 7.16634886e-01,  8.64256166e-01],\n",
              "       [ 9.46934894e-01,  1.62202164e+00],\n",
              "       [ 1.05750360e+00,  7.75978130e-01],\n",
              "       [ 5.49680612e-01,  1.47422475e+00],\n",
              "       [ 2.08786493e+00,  1.43474610e+00],\n",
              "       [ 1.89178284e+00,  3.33894675e-01],\n",
              "       [-8.15548670e-04,  6.20287905e-01],\n",
              "       [ 1.06146308e+00,  9.78086230e-01],\n",
              "       [ 2.16850179e-01,  5.07896652e-01],\n",
              "       [ 1.44432798e+00,  9.10940134e-01],\n",
              "       [ 9.23461107e-01, -3.92026320e-01],\n",
              "       [ 1.52562236e-01,  2.82634665e-01],\n",
              "       [-4.80677309e-01,  3.12953699e-01],\n",
              "       [-5.84667761e-01, -3.26055185e-01],\n",
              "       [ 7.53931605e-01,  1.01893255e+00],\n",
              "       [ 8.60458407e-01,  7.16640270e-02],\n",
              "       [ 1.51405310e+00,  8.26279719e-01],\n",
              "       [ 5.59775537e-01,  1.65846959e+00],\n",
              "       [-2.81587295e-01,  1.66558829e+00],\n",
              "       [ 1.39541751e+00,  9.41495315e-01],\n",
              "       [ 3.32162828e-01,  6.97576555e-01],\n",
              "       [-4.21260467e-01,  8.73239576e-01],\n",
              "       [ 1.48623313e+00,  9.35584999e-01],\n",
              "       [ 2.45219799e-01,  1.33386986e+00],\n",
              "       [ 1.99199673e+00,  1.20528743e+00],\n",
              "       [ 8.44204649e-01,  1.18310262e+00],\n",
              "       [ 2.48847551e-01,  4.85167036e-01],\n",
              "       [ 4.05871606e-01,  6.69528109e-01],\n",
              "       [ 1.71525665e+00, -2.56664575e-01],\n",
              "       [ 1.09142639e+00,  6.65133385e-02],\n",
              "       [ 6.70779229e-01,  1.12873156e+00],\n",
              "       [ 1.91417581e-01,  1.02530015e+00],\n",
              "       [ 2.50264710e-01,  1.04235174e+00],\n",
              "       [ 6.72936808e-01,  1.63363665e-01],\n",
              "       [ 8.09483594e-02,  5.83726929e-01],\n",
              "       [ 4.08945013e-01,  1.18986279e+00],\n",
              "       [ 1.35919473e+00,  9.27635642e-01],\n",
              "       [ 6.62948244e-01,  5.63279553e-01],\n",
              "       [ 1.61113785e-01,  3.28504171e-01],\n",
              "       [ 1.50189592e+00,  3.29836818e-01],\n",
              "       [-6.22042815e-02,  1.23708783e+00],\n",
              "       [ 1.40270380e+00,  1.22733308e+00],\n",
              "       [-2.26917526e-01,  1.65020502e+00],\n",
              "       [ 8.59113700e-01,  1.11998418e+00],\n",
              "       [ 1.47907450e+00,  2.22008600e+00],\n",
              "       [ 4.97110748e-01, -6.85839993e-02],\n",
              "       [ 2.78959352e-01,  1.73750271e+00],\n",
              "       [ 2.56693405e-01,  1.15639142e+00],\n",
              "       [ 6.82777608e-01,  1.01868443e+00],\n",
              "       [ 6.84117173e-01,  4.66497661e-02],\n",
              "       [ 9.07407548e-01,  9.10768957e-01],\n",
              "       [ 1.30443362e+00,  1.43706958e+00],\n",
              "       [-1.05038451e-01, -6.72683645e-01],\n",
              "       [-5.99711946e-01, -8.84587596e-01],\n",
              "       [-1.84275936e-02,  1.17096755e-01],\n",
              "       [-5.75944560e-01, -1.34272505e+00],\n",
              "       [-3.24673423e-01, -8.31549756e-01],\n",
              "       [ 6.56352788e-02, -5.36223808e-01],\n",
              "       [-1.93132876e+00, -5.12709844e-01],\n",
              "       [-1.75362182e+00, -7.88143305e-01],\n",
              "       [-9.28469975e-01,  2.83719806e-01],\n",
              "       [-1.23078282e+00, -1.28070423e+00],\n",
              "       [-1.87920051e-01, -1.78265010e-01],\n",
              "       [-1.22293345e+00, -8.90819796e-01],\n",
              "       [-9.61521978e-01,  4.90540133e-03],\n",
              "       [-1.56008966e+00, -3.69046987e-01],\n",
              "       [-7.93900913e-01, -1.12591544e+00],\n",
              "       [-9.97083458e-01, -4.98934284e-01],\n",
              "       [-1.78558327e+00, -3.54131495e-01],\n",
              "       [-5.94077722e-01, -1.47543790e+00],\n",
              "       [-5.75401857e-01, -1.13529520e+00],\n",
              "       [-1.45015592e+00, -3.43437498e-01],\n",
              "       [-2.68346365e-01, -3.75485007e-01],\n",
              "       [-9.83036903e-01, -1.50661050e+00],\n",
              "       [-3.63780617e-01, -1.98285486e+00],\n",
              "       [-6.12569553e-01, -1.22534166e+00],\n",
              "       [ 6.59226640e-01, -2.15685971e+00],\n",
              "       [-8.80546501e-01, -8.16383343e-02],\n",
              "       [-1.26518572e+00, -1.48126784e+00],\n",
              "       [-1.31247115e+00, -2.45717757e-01],\n",
              "       [-2.09819658e-01, -2.71543376e-01],\n",
              "       [-1.00861338e-02, -1.36418709e+00],\n",
              "       [-4.53728041e-01, -1.20312957e+00],\n",
              "       [-1.06630973e+00, -1.60693143e+00],\n",
              "       [-1.17526132e+00, -9.86089402e-01],\n",
              "       [-7.29716638e-01, -5.73658362e-01],\n",
              "       [-1.26799001e+00, -1.38091151e+00],\n",
              "       [-1.99622254e+00, -1.19547190e+00],\n",
              "       [-6.26274393e-01, -1.36234980e+00],\n",
              "       [-7.78352671e-01, -8.74304310e-01],\n",
              "       [-9.30269146e-01, -1.29842131e+00],\n",
              "       [-8.01947800e-01, -1.74550553e-01],\n",
              "       [-9.03390997e-01, -4.11809811e-01],\n",
              "       [-4.59937311e-01, -4.83077636e-01],\n",
              "       [ 5.16096275e-01, -2.53683176e-01],\n",
              "       [-6.38877775e-01, -5.59478422e-01],\n",
              "       [ 5.69243927e-01, -7.71532551e-01],\n",
              "       [-1.26322988e-01, -1.41559452e+00],\n",
              "       [-5.43886349e-01, -1.14509329e-01],\n",
              "       [-1.76598164e+00, -6.47448804e-01],\n",
              "       [-2.26846624e-01, -8.14623027e-01],\n",
              "       [-1.18530225e+00,  8.47148070e-02],\n",
              "       [-7.28838670e-01, -4.42156088e-01],\n",
              "       [-1.00361828e+00, -2.43376286e-01],\n",
              "       [-6.37346592e-01, -8.01209506e-01],\n",
              "       [-1.83708795e+00, -1.01667591e+00],\n",
              "       [-6.02816987e-01, -3.59959277e-01],\n",
              "       [ 3.43051124e-01, -1.10418074e+00],\n",
              "       [-4.91432878e-01, -4.17614846e-01],\n",
              "       [-1.13734233e+00, -8.11661499e-01],\n",
              "       [-5.94782000e-01, -1.59850040e+00],\n",
              "       [-1.58734661e+00, -1.04911876e+00],\n",
              "       [-1.21866628e+00, -4.17467018e-01],\n",
              "       [-6.14824874e-01, -2.06026819e+00],\n",
              "       [-7.84779946e-01,  3.39642090e-01],\n",
              "       [-7.91789025e-01, -2.18780958e-01],\n",
              "       [-1.37223317e+00, -2.16549517e-01],\n",
              "       [-1.79478069e+00, -1.02433033e+00],\n",
              "       [-1.03753027e+00,  1.81468120e-01],\n",
              "       [ 7.45983139e-03, -6.10781439e-01],\n",
              "       [-1.86615779e-01, -3.21138158e-01],\n",
              "       [-6.51851807e-02, -1.29524056e+00],\n",
              "       [-5.14737878e-01, -6.26565650e-01],\n",
              "       [-1.29498876e+00, -8.00925712e-01],\n",
              "       [ 8.17376342e-02, -1.14476578e+00],\n",
              "       [-1.03274012e+00, -1.60878637e+00],\n",
              "       [-1.31665047e+00, -9.48663478e-01],\n",
              "       [-4.17830159e-01, -1.45292893e+00],\n",
              "       [-1.23802629e+00, -9.87381250e-01],\n",
              "       [-6.46445898e-01, -1.14622034e+00],\n",
              "       [-1.24272228e+00,  2.03640197e-01],\n",
              "       [-7.98054275e-02, -2.46916411e-01],\n",
              "       [ 1.35905660e-01, -5.99915262e-01],\n",
              "       [ 5.17841117e-01, -1.13880612e+00],\n",
              "       [-6.14573783e-01, -1.03700137e+00],\n",
              "       [-1.73757368e+00, -1.03747743e+00],\n",
              "       [-2.05058572e+00, -1.48096365e+00],\n",
              "       [-4.07832679e-01, -1.42914090e+00],\n",
              "       [-9.99681890e-01, -4.67891179e-01],\n",
              "       [-1.41278640e+00, -7.75460363e-01],\n",
              "       [-1.21248569e+00, -9.29565811e-01],\n",
              "       [-2.93383526e-01, -8.30139104e-01],\n",
              "       [-9.57391375e-01, -1.17820265e+00],\n",
              "       [-2.39082567e-01, -1.38395497e+00],\n",
              "       [-1.64757262e+00, -2.42452018e-01],\n",
              "       [-9.13606251e-01, -1.54304484e+00],\n",
              "       [-4.86162557e-01, -1.33587767e+00],\n",
              "       [-6.50264132e-01, -1.60083945e+00],\n",
              "       [-2.96258549e-01, -4.78614648e-01],\n",
              "       [-1.52603712e+00, -3.54353480e-01],\n",
              "       [-1.50895458e-01,  9.27064978e-02],\n",
              "       [-3.35833775e-01, -1.06534691e+00]])"
            ]
          },
          "metadata": {
            "tags": []
          },
          "execution_count": 10
        }
      ]
    },
    {
      "cell_type": "code",
      "metadata": {
        "id": "Zqwg6xZ-2Y_F",
        "colab_type": "code",
        "colab": {},
        "outputId": "6747e021-8d32-4278-bf92-a1ded83bce33"
      },
      "source": [
        "X_sc + 1\n",
        "X_sc"
      ],
      "execution_count": 0,
      "outputs": [
        {
          "output_type": "execute_result",
          "data": {
            "text/plain": [
              "array([[ 1.14477890e+00,  6.36012491e-01],\n",
              "       [ 1.82844099e+00,  2.82174074e-01],\n",
              "       [ 3.13563414e-02,  1.26214098e+00],\n",
              "       [ 2.21532774e+00,  8.11872368e-01],\n",
              "       [ 5.64725425e-02,  8.02960782e-01],\n",
              "       [ 3.09085204e-01, -9.61965149e-01],\n",
              "       [ 1.14073262e+00,  1.79632181e-01],\n",
              "       [ 1.14897768e+00,  8.97195042e-01],\n",
              "       [ 5.94346774e-01, -1.41371187e-01],\n",
              "       [ 9.56725822e-01,  1.20705858e+00],\n",
              "       [ 1.61666641e+00,  1.97361699e+00],\n",
              "       [ 1.35569122e+00, -5.48332754e-01],\n",
              "       [ 1.90854075e+00, -6.90589419e-02],\n",
              "       [ 1.52423090e-01,  1.34355673e+00],\n",
              "       [ 7.65077439e-01,  1.22501572e+00],\n",
              "       [ 1.51089516e+00,  1.78553727e-01],\n",
              "       [ 1.31040846e+00,  7.57337586e-01],\n",
              "       [ 8.33182728e-01,  3.57137357e-01],\n",
              "       [ 1.03897429e+00,  9.76079280e-01],\n",
              "       [ 2.93884029e-01,  9.81667343e-01],\n",
              "       [-7.72178137e-01,  9.97561206e-01],\n",
              "       [ 1.15382066e+00,  7.71813365e-01],\n",
              "       [ 2.46040910e-01,  1.24701326e+00],\n",
              "       [ 2.19773012e+00,  1.03565601e+00],\n",
              "       [-1.83864754e-01,  1.94493731e+00],\n",
              "       [ 1.68606098e-01,  1.01975969e+00],\n",
              "       [ 8.56202910e-01,  1.86646390e-01],\n",
              "       [ 8.91237377e-01,  1.75219127e+00],\n",
              "       [ 4.23248954e-01,  7.83824571e-01],\n",
              "       [ 6.37815575e-01,  1.34548559e+00],\n",
              "       [ 1.95697568e-01,  3.30832733e-02],\n",
              "       [ 5.59000952e-01,  1.00508767e+00],\n",
              "       [ 5.14069337e-01,  7.55906496e-01],\n",
              "       [ 2.04253829e+00,  1.98139470e+00],\n",
              "       [ 7.72342572e-01, -9.90902641e-02],\n",
              "       [-1.20816816e+00,  1.45632225e+00],\n",
              "       [ 6.99681715e-01,  2.77702699e-01],\n",
              "       [ 1.32788447e+00, -8.68321933e-01],\n",
              "       [ 1.09489259e+00,  1.18015020e+00],\n",
              "       [ 1.36302151e+00,  4.94296927e-01],\n",
              "       [ 9.92534213e-01,  1.19364794e+00],\n",
              "       [ 1.45083441e+00,  1.57126697e-01],\n",
              "       [-3.03404048e-01,  1.04940103e+00],\n",
              "       [ 6.28872771e-01,  4.70250188e-01],\n",
              "       [ 6.12658861e-01, -6.84773610e-02],\n",
              "       [ 1.27050102e+00,  1.71915240e+00],\n",
              "       [ 1.51467438e+00,  1.41647146e+00],\n",
              "       [ 3.78995720e-01,  1.47148801e+00],\n",
              "       [ 7.16634886e-01,  8.64256166e-01],\n",
              "       [ 9.46934894e-01,  1.62202164e+00],\n",
              "       [ 1.05750360e+00,  7.75978130e-01],\n",
              "       [ 5.49680612e-01,  1.47422475e+00],\n",
              "       [ 2.08786493e+00,  1.43474610e+00],\n",
              "       [ 1.89178284e+00,  3.33894675e-01],\n",
              "       [-8.15548670e-04,  6.20287905e-01],\n",
              "       [ 1.06146308e+00,  9.78086230e-01],\n",
              "       [ 2.16850179e-01,  5.07896652e-01],\n",
              "       [ 1.44432798e+00,  9.10940134e-01],\n",
              "       [ 9.23461107e-01, -3.92026320e-01],\n",
              "       [ 1.52562236e-01,  2.82634665e-01],\n",
              "       [-4.80677309e-01,  3.12953699e-01],\n",
              "       [-5.84667761e-01, -3.26055185e-01],\n",
              "       [ 7.53931605e-01,  1.01893255e+00],\n",
              "       [ 8.60458407e-01,  7.16640270e-02],\n",
              "       [ 1.51405310e+00,  8.26279719e-01],\n",
              "       [ 5.59775537e-01,  1.65846959e+00],\n",
              "       [-2.81587295e-01,  1.66558829e+00],\n",
              "       [ 1.39541751e+00,  9.41495315e-01],\n",
              "       [ 3.32162828e-01,  6.97576555e-01],\n",
              "       [-4.21260467e-01,  8.73239576e-01],\n",
              "       [ 1.48623313e+00,  9.35584999e-01],\n",
              "       [ 2.45219799e-01,  1.33386986e+00],\n",
              "       [ 1.99199673e+00,  1.20528743e+00],\n",
              "       [ 8.44204649e-01,  1.18310262e+00],\n",
              "       [ 2.48847551e-01,  4.85167036e-01],\n",
              "       [ 4.05871606e-01,  6.69528109e-01],\n",
              "       [ 1.71525665e+00, -2.56664575e-01],\n",
              "       [ 1.09142639e+00,  6.65133385e-02],\n",
              "       [ 6.70779229e-01,  1.12873156e+00],\n",
              "       [ 1.91417581e-01,  1.02530015e+00],\n",
              "       [ 2.50264710e-01,  1.04235174e+00],\n",
              "       [ 6.72936808e-01,  1.63363665e-01],\n",
              "       [ 8.09483594e-02,  5.83726929e-01],\n",
              "       [ 4.08945013e-01,  1.18986279e+00],\n",
              "       [ 1.35919473e+00,  9.27635642e-01],\n",
              "       [ 6.62948244e-01,  5.63279553e-01],\n",
              "       [ 1.61113785e-01,  3.28504171e-01],\n",
              "       [ 1.50189592e+00,  3.29836818e-01],\n",
              "       [-6.22042815e-02,  1.23708783e+00],\n",
              "       [ 1.40270380e+00,  1.22733308e+00],\n",
              "       [-2.26917526e-01,  1.65020502e+00],\n",
              "       [ 8.59113700e-01,  1.11998418e+00],\n",
              "       [ 1.47907450e+00,  2.22008600e+00],\n",
              "       [ 4.97110748e-01, -6.85839993e-02],\n",
              "       [ 2.78959352e-01,  1.73750271e+00],\n",
              "       [ 2.56693405e-01,  1.15639142e+00],\n",
              "       [ 6.82777608e-01,  1.01868443e+00],\n",
              "       [ 6.84117173e-01,  4.66497661e-02],\n",
              "       [ 9.07407548e-01,  9.10768957e-01],\n",
              "       [ 1.30443362e+00,  1.43706958e+00],\n",
              "       [-1.05038451e-01, -6.72683645e-01],\n",
              "       [-5.99711946e-01, -8.84587596e-01],\n",
              "       [-1.84275936e-02,  1.17096755e-01],\n",
              "       [-5.75944560e-01, -1.34272505e+00],\n",
              "       [-3.24673423e-01, -8.31549756e-01],\n",
              "       [ 6.56352788e-02, -5.36223808e-01],\n",
              "       [-1.93132876e+00, -5.12709844e-01],\n",
              "       [-1.75362182e+00, -7.88143305e-01],\n",
              "       [-9.28469975e-01,  2.83719806e-01],\n",
              "       [-1.23078282e+00, -1.28070423e+00],\n",
              "       [-1.87920051e-01, -1.78265010e-01],\n",
              "       [-1.22293345e+00, -8.90819796e-01],\n",
              "       [-9.61521978e-01,  4.90540133e-03],\n",
              "       [-1.56008966e+00, -3.69046987e-01],\n",
              "       [-7.93900913e-01, -1.12591544e+00],\n",
              "       [-9.97083458e-01, -4.98934284e-01],\n",
              "       [-1.78558327e+00, -3.54131495e-01],\n",
              "       [-5.94077722e-01, -1.47543790e+00],\n",
              "       [-5.75401857e-01, -1.13529520e+00],\n",
              "       [-1.45015592e+00, -3.43437498e-01],\n",
              "       [-2.68346365e-01, -3.75485007e-01],\n",
              "       [-9.83036903e-01, -1.50661050e+00],\n",
              "       [-3.63780617e-01, -1.98285486e+00],\n",
              "       [-6.12569553e-01, -1.22534166e+00],\n",
              "       [ 6.59226640e-01, -2.15685971e+00],\n",
              "       [-8.80546501e-01, -8.16383343e-02],\n",
              "       [-1.26518572e+00, -1.48126784e+00],\n",
              "       [-1.31247115e+00, -2.45717757e-01],\n",
              "       [-2.09819658e-01, -2.71543376e-01],\n",
              "       [-1.00861338e-02, -1.36418709e+00],\n",
              "       [-4.53728041e-01, -1.20312957e+00],\n",
              "       [-1.06630973e+00, -1.60693143e+00],\n",
              "       [-1.17526132e+00, -9.86089402e-01],\n",
              "       [-7.29716638e-01, -5.73658362e-01],\n",
              "       [-1.26799001e+00, -1.38091151e+00],\n",
              "       [-1.99622254e+00, -1.19547190e+00],\n",
              "       [-6.26274393e-01, -1.36234980e+00],\n",
              "       [-7.78352671e-01, -8.74304310e-01],\n",
              "       [-9.30269146e-01, -1.29842131e+00],\n",
              "       [-8.01947800e-01, -1.74550553e-01],\n",
              "       [-9.03390997e-01, -4.11809811e-01],\n",
              "       [-4.59937311e-01, -4.83077636e-01],\n",
              "       [ 5.16096275e-01, -2.53683176e-01],\n",
              "       [-6.38877775e-01, -5.59478422e-01],\n",
              "       [ 5.69243927e-01, -7.71532551e-01],\n",
              "       [-1.26322988e-01, -1.41559452e+00],\n",
              "       [-5.43886349e-01, -1.14509329e-01],\n",
              "       [-1.76598164e+00, -6.47448804e-01],\n",
              "       [-2.26846624e-01, -8.14623027e-01],\n",
              "       [-1.18530225e+00,  8.47148070e-02],\n",
              "       [-7.28838670e-01, -4.42156088e-01],\n",
              "       [-1.00361828e+00, -2.43376286e-01],\n",
              "       [-6.37346592e-01, -8.01209506e-01],\n",
              "       [-1.83708795e+00, -1.01667591e+00],\n",
              "       [-6.02816987e-01, -3.59959277e-01],\n",
              "       [ 3.43051124e-01, -1.10418074e+00],\n",
              "       [-4.91432878e-01, -4.17614846e-01],\n",
              "       [-1.13734233e+00, -8.11661499e-01],\n",
              "       [-5.94782000e-01, -1.59850040e+00],\n",
              "       [-1.58734661e+00, -1.04911876e+00],\n",
              "       [-1.21866628e+00, -4.17467018e-01],\n",
              "       [-6.14824874e-01, -2.06026819e+00],\n",
              "       [-7.84779946e-01,  3.39642090e-01],\n",
              "       [-7.91789025e-01, -2.18780958e-01],\n",
              "       [-1.37223317e+00, -2.16549517e-01],\n",
              "       [-1.79478069e+00, -1.02433033e+00],\n",
              "       [-1.03753027e+00,  1.81468120e-01],\n",
              "       [ 7.45983139e-03, -6.10781439e-01],\n",
              "       [-1.86615779e-01, -3.21138158e-01],\n",
              "       [-6.51851807e-02, -1.29524056e+00],\n",
              "       [-5.14737878e-01, -6.26565650e-01],\n",
              "       [-1.29498876e+00, -8.00925712e-01],\n",
              "       [ 8.17376342e-02, -1.14476578e+00],\n",
              "       [-1.03274012e+00, -1.60878637e+00],\n",
              "       [-1.31665047e+00, -9.48663478e-01],\n",
              "       [-4.17830159e-01, -1.45292893e+00],\n",
              "       [-1.23802629e+00, -9.87381250e-01],\n",
              "       [-6.46445898e-01, -1.14622034e+00],\n",
              "       [-1.24272228e+00,  2.03640197e-01],\n",
              "       [-7.98054275e-02, -2.46916411e-01],\n",
              "       [ 1.35905660e-01, -5.99915262e-01],\n",
              "       [ 5.17841117e-01, -1.13880612e+00],\n",
              "       [-6.14573783e-01, -1.03700137e+00],\n",
              "       [-1.73757368e+00, -1.03747743e+00],\n",
              "       [-2.05058572e+00, -1.48096365e+00],\n",
              "       [-4.07832679e-01, -1.42914090e+00],\n",
              "       [-9.99681890e-01, -4.67891179e-01],\n",
              "       [-1.41278640e+00, -7.75460363e-01],\n",
              "       [-1.21248569e+00, -9.29565811e-01],\n",
              "       [-2.93383526e-01, -8.30139104e-01],\n",
              "       [-9.57391375e-01, -1.17820265e+00],\n",
              "       [-2.39082567e-01, -1.38395497e+00],\n",
              "       [-1.64757262e+00, -2.42452018e-01],\n",
              "       [-9.13606251e-01, -1.54304484e+00],\n",
              "       [-4.86162557e-01, -1.33587767e+00],\n",
              "       [-6.50264132e-01, -1.60083945e+00],\n",
              "       [-2.96258549e-01, -4.78614648e-01],\n",
              "       [-1.52603712e+00, -3.54353480e-01],\n",
              "       [-1.50895458e-01,  9.27064978e-02],\n",
              "       [-3.35833775e-01, -1.06534691e+00]])"
            ]
          },
          "metadata": {
            "tags": []
          },
          "execution_count": 11
        }
      ]
    },
    {
      "cell_type": "code",
      "metadata": {
        "id": "196FDJiN2Y_H",
        "colab_type": "code",
        "colab": {},
        "outputId": "31969cc8-978f-4dca-fad9-1db215d633ea"
      },
      "source": [
        "X_2 = sc.inverse_transform(X_sc+1)\n",
        "X_2"
      ],
      "execution_count": 0,
      "outputs": [
        {
          "output_type": "execute_result",
          "data": {
            "text/plain": [
              "array([[198.49775401,  85.72405321],\n",
              "       [202.75830652,  83.37741533],\n",
              "       [191.55895289,  89.8765046 ],\n",
              "       [205.169368  ,  86.89034673],\n",
              "       [191.71547596,  86.83124555],\n",
              "       [193.28974712,  75.12634905],\n",
              "       [198.47253778,  82.69736286],\n",
              "       [198.52392061,  87.45620224],\n",
              "       [195.06748486,  80.5684853 ],\n",
              "       [197.32581539,  89.511201  ],\n",
              "       [201.43853651,  94.59497634],\n",
              "       [199.81215046,  77.86953747],\n",
              "       [203.25748476,  81.04805633],\n",
              "       [192.31343562,  90.41644962],\n",
              "       [196.13147097,  89.63029185],\n",
              "       [200.7793747 ,  82.6902106 ],\n",
              "       [199.52995027,  86.5286749 ],\n",
              "       [196.55590018,  83.87456791],\n",
              "       [197.83838428,  87.97935838],\n",
              "       [193.19501406,  88.01641812],\n",
              "       [186.55136083,  88.12182539],\n",
              "       [198.55410189,  86.62467751],\n",
              "       [192.89685781,  89.7761784 ],\n",
              "       [205.0597004 ,  88.37446814],\n",
              "       [190.21770435,  94.40477422],\n",
              "       [192.41428742,  88.26904456],\n",
              "       [196.69936096,  82.74388073],\n",
              "       [196.91769424,  93.12649254],\n",
              "       [194.00121067,  86.7043352 ],\n",
              "       [195.33838055,  90.42924172],\n",
              "       [192.58312029,  81.72545816],\n",
              "       [194.84721124,  88.17174052],\n",
              "       [194.56719935,  86.51918399],\n",
              "       [204.09255166,  94.64655772],\n",
              "       [196.17674697,  80.84889017],\n",
              "       [183.8342899 ,  91.16430468],\n",
              "       [195.72392765,  83.3477614 ],\n",
              "       [199.63886   ,  75.74738596],\n",
              "       [198.18686472,  89.33274607],\n",
              "       [199.8578325 ,  84.784203  ],\n",
              "       [197.54897173,  89.42226234],\n",
              "       [200.4050787 ,  82.54810767],\n",
              "       [189.47274065,  88.46562437],\n",
              "       [195.28264938,  84.62472628],\n",
              "       [195.181605  ,  81.05191335],\n",
              "       [199.28124881,  92.90738048],\n",
              "       [200.80292663,  90.90001627],\n",
              "       [193.72542643,  91.26488317],\n",
              "       [195.82957908,  87.23775334],\n",
              "       [197.26479875,  92.26321436],\n",
              "       [197.95385813,  86.65229802],\n",
              "       [194.78912728,  91.28303311],\n",
              "       [204.3750253 ,  91.02121277],\n",
              "       [203.15305021,  83.72042366],\n",
              "       [191.35845906,  85.61976859],\n",
              "       [197.97853346,  87.99266837],\n",
              "       [192.71494244,  84.87439567],\n",
              "       [200.3645309 ,  87.54735897],\n",
              "       [197.11851112,  78.90615356],\n",
              "       [192.31430277,  83.38046995],\n",
              "       [188.36798136,  83.58154419],\n",
              "       [187.71991737,  79.34367068],\n",
              "       [196.06201061,  88.26355901],\n",
              "       [196.72588103,  81.9813237 ],\n",
              "       [200.79905485,  86.98589552],\n",
              "       [194.85203841,  92.50493528],\n",
              "       [189.6087017 ,  92.55214611],\n",
              "       [200.05972297,  87.74999934],\n",
              "       [193.43356587,  86.13234287],\n",
              "       [188.73826455,  87.29733084],\n",
              "       [200.625682  ,  87.71080243],\n",
              "       [192.89174069,  90.3522068 ],\n",
              "       [203.77757882,  89.49945488],\n",
              "       [196.62458832,  89.35232632],\n",
              "       [192.91434868,  84.72365404],\n",
              "       [193.89291578,  85.94632704],\n",
              "       [202.05294665,  79.80386558],\n",
              "       [198.1652635 ,  81.94716461],\n",
              "       [195.54380861,  88.99174034],\n",
              "       [192.55644759,  88.30578861],\n",
              "       [192.92318035,  88.41887386],\n",
              "       [195.55725455,  82.58947091],\n",
              "       [191.86800819,  85.3772981 ],\n",
              "       [193.91206912,  89.39715944],\n",
              "       [199.83398417,  87.65808271],\n",
              "       [195.49500626,  85.24169217],\n",
              "       [192.36759565,  83.68467412],\n",
              "       [200.72329179,  83.69351216],\n",
              "       [190.97588714,  89.71035343],\n",
              "       [200.10513079,  89.64566046],\n",
              "       [189.94940134,  92.45012505],\n",
              "       [196.71750087,  88.93372818],\n",
              "       [200.58106971,  96.2295459 ],\n",
              "       [194.46151417,  81.05120613],\n",
              "       [193.10200412,  93.02907875],\n",
              "       [192.9632437 ,  89.17517909],\n",
              "       [195.61858199,  88.2619135 ],\n",
              "       [195.6269301 ,  81.81543043],\n",
              "       [197.01846604,  87.54622373],\n",
              "       [199.49271532,  91.03662193],\n",
              "       [190.70894645,  77.04484886],\n",
              "       [187.62616266,  75.63951293],\n",
              "       [191.24870156,  82.28263118],\n",
              "       [187.77427998,  72.60116928],\n",
              "       [189.34019082,  75.99125711],\n",
              "       [191.77257774,  77.94984336],\n",
              "       [179.32758436,  78.10578675],\n",
              "       [180.4350463 ,  76.27912643],\n",
              "       [185.57735687,  83.38766654],\n",
              "       [183.6933563 ,  73.01248809],\n",
              "       [190.19243191,  80.3238074 ],\n",
              "       [183.74227328,  75.59818131],\n",
              "       [185.37137822,  81.53858399],\n",
              "       [181.64113034,  79.0585513 ],\n",
              "       [186.41598543,  74.03903931],\n",
              "       [185.14976062,  78.19714554],\n",
              "       [180.23586396,  79.15747006],\n",
              "       [187.6612749 ,  71.72102463],\n",
              "       [187.77766209,  73.97683318],\n",
              "       [182.3262327 ,  79.22839209],\n",
              "       [189.69121861,  79.01585469],\n",
              "       [185.23729814,  71.51428955],\n",
              "       [189.09647648,  68.35586188],\n",
              "       [187.54603461,  73.37964976],\n",
              "       [195.47181338,  67.2018708 ],\n",
              "       [185.87601389,  80.96463046],\n",
              "       [183.47895897,  71.68236075],\n",
              "       [183.18427822,  79.87646431],\n",
              "       [190.05595451,  79.70519015],\n",
              "       [191.30068518,  72.45883417],\n",
              "       [188.53592804,  73.52695923],\n",
              "       [184.71834547,  70.8489664 ],\n",
              "       [184.03936391,  74.96635826],\n",
              "       [186.81597906,  77.70157936],\n",
              "       [183.46148271,  72.34791867],\n",
              "       [178.92316916,  73.5777445 ],\n",
              "       [187.46062664,  72.47101899],\n",
              "       [186.51288141,  75.70771114],\n",
              "       [185.56614452,  72.89498938],\n",
              "       [186.36583759,  80.34844148],\n",
              "       [185.73364798,  78.77495049],\n",
              "       [188.49723213,  78.302306  ],\n",
              "       [194.57983114,  79.82363806],\n",
              "       [187.38208291,  77.79561998],\n",
              "       [194.91104501,  76.38928808],\n",
              "       [190.57630213,  72.11790279],\n",
              "       [187.97406536,  80.74663174],\n",
              "       [180.35802048,  77.21220501],\n",
              "       [189.94984319,  76.10351429],\n",
              "       [183.97678929,  82.0678758 ],\n",
              "       [186.82145052,  78.57369556],\n",
              "       [185.10903587,  79.89199282],\n",
              "       [187.39162518,  76.19247207],\n",
              "       [179.914889  ,  74.76351012],\n",
              "       [187.60681218,  79.11882052],\n",
              "       [193.50142126,  74.18318267],\n",
              "       [188.30095312,  78.7364518 ],\n",
              "       [184.27567339,  76.123155  ],\n",
              "       [187.65688588,  70.90488055],\n",
              "       [181.47126625,  74.54835087],\n",
              "       [183.7688661 ,  78.73743219],\n",
              "       [187.53197955,  67.84246069],\n",
              "       [186.47282691,  83.75854021],\n",
              "       [186.42914663,  80.05510775],\n",
              "       [182.81184388,  80.06990655],\n",
              "       [180.17854602,  74.71274641],\n",
              "       [184.89769783,  82.70953871],\n",
              "       [191.41003087,  77.45538105],\n",
              "       [190.20056007,  79.37628015],\n",
              "       [190.9573103 ,  72.91608394],\n",
              "       [188.15571738,  77.35070099],\n",
              "       [183.29322766,  76.19435417],\n",
              "       [191.87292692,  73.9140248 ],\n",
              "       [184.92754982,  70.83666453],\n",
              "       [183.15823286,  75.21456503],\n",
              "       [188.75964208,  71.87030292],\n",
              "       [183.64821535,  74.95779079],\n",
              "       [187.3349187 ,  73.90437824],\n",
              "       [183.61895016,  82.85658277],\n",
              "       [190.86619756,  79.8685149 ],\n",
              "       [192.21049971,  77.52744497],\n",
              "       [194.59070493,  73.95354896],\n",
              "       [187.53354434,  74.62871278],\n",
              "       [180.53505766,  74.62555556],\n",
              "       [178.58438016,  71.68437812],\n",
              "       [188.82194594,  72.0280639 ],\n",
              "       [185.13356731,  78.40302179],\n",
              "       [182.55911788,  76.36323904],\n",
              "       [183.80738325,  75.34121976],\n",
              "       [189.53518811,  76.00061249],\n",
              "       [185.39711996,  73.69227325],\n",
              "       [189.87358933,  72.32773461],\n",
              "       [181.09594033,  79.89812252],\n",
              "       [185.66998696,  71.2726589 ],\n",
              "       [188.33379753,  72.64658078],\n",
              "       [187.31112363,  70.88936809],\n",
              "       [189.51727108,  78.3319043 ],\n",
              "       [181.85334434,  79.15599787],\n",
              "       [190.42316757,  82.12087627],\n",
              "       [189.27063999,  74.44072663]])"
            ]
          },
          "metadata": {
            "tags": []
          },
          "execution_count": 12
        }
      ]
    },
    {
      "cell_type": "code",
      "metadata": {
        "id": "WcdqheWX2Y_K",
        "colab_type": "code",
        "colab": {},
        "outputId": "983101c5-ba6b-427f-a7a3-050e3b104bf7"
      },
      "source": [
        "X"
      ],
      "execution_count": 0,
      "outputs": [
        {
          "output_type": "execute_result",
          "data": {
            "text/html": [
              "<div>\n",
              "<style scoped>\n",
              "    .dataframe tbody tr th:only-of-type {\n",
              "        vertical-align: middle;\n",
              "    }\n",
              "\n",
              "    .dataframe tbody tr th {\n",
              "        vertical-align: top;\n",
              "    }\n",
              "\n",
              "    .dataframe thead th {\n",
              "        text-align: right;\n",
              "    }\n",
              "</style>\n",
              "<table border=\"1\" class=\"dataframe\">\n",
              "  <thead>\n",
              "    <tr style=\"text-align: right;\">\n",
              "      <th></th>\n",
              "      <th>H</th>\n",
              "      <th>W</th>\n",
              "    </tr>\n",
              "  </thead>\n",
              "  <tbody>\n",
              "    <tr>\n",
              "      <th>0</th>\n",
              "      <td>192.265797</td>\n",
              "      <td>79.092105</td>\n",
              "    </tr>\n",
              "    <tr>\n",
              "      <th>1</th>\n",
              "      <td>196.526350</td>\n",
              "      <td>76.745468</td>\n",
              "    </tr>\n",
              "    <tr>\n",
              "      <th>2</th>\n",
              "      <td>185.326996</td>\n",
              "      <td>83.244557</td>\n",
              "    </tr>\n",
              "    <tr>\n",
              "      <th>3</th>\n",
              "      <td>198.937411</td>\n",
              "      <td>80.258399</td>\n",
              "    </tr>\n",
              "    <tr>\n",
              "      <th>4</th>\n",
              "      <td>185.483519</td>\n",
              "      <td>80.199298</td>\n",
              "    </tr>\n",
              "    <tr>\n",
              "      <th>...</th>\n",
              "      <td>...</td>\n",
              "      <td>...</td>\n",
              "    </tr>\n",
              "    <tr>\n",
              "      <th>195</th>\n",
              "      <td>181.079167</td>\n",
              "      <td>64.257420</td>\n",
              "    </tr>\n",
              "    <tr>\n",
              "      <th>196</th>\n",
              "      <td>183.285314</td>\n",
              "      <td>71.699957</td>\n",
              "    </tr>\n",
              "    <tr>\n",
              "      <th>197</th>\n",
              "      <td>175.621388</td>\n",
              "      <td>72.524050</td>\n",
              "    </tr>\n",
              "    <tr>\n",
              "      <th>198</th>\n",
              "      <td>184.191211</td>\n",
              "      <td>75.488929</td>\n",
              "    </tr>\n",
              "    <tr>\n",
              "      <th>199</th>\n",
              "      <td>183.038683</td>\n",
              "      <td>67.808779</td>\n",
              "    </tr>\n",
              "  </tbody>\n",
              "</table>\n",
              "<p>200 rows × 2 columns</p>\n",
              "</div>"
            ],
            "text/plain": [
              "              H          W\n",
              "0    192.265797  79.092105\n",
              "1    196.526350  76.745468\n",
              "2    185.326996  83.244557\n",
              "3    198.937411  80.258399\n",
              "4    185.483519  80.199298\n",
              "..          ...        ...\n",
              "195  181.079167  64.257420\n",
              "196  183.285314  71.699957\n",
              "197  175.621388  72.524050\n",
              "198  184.191211  75.488929\n",
              "199  183.038683  67.808779\n",
              "\n",
              "[200 rows x 2 columns]"
            ]
          },
          "metadata": {
            "tags": []
          },
          "execution_count": 13
        }
      ]
    },
    {
      "cell_type": "code",
      "metadata": {
        "id": "HlgYTita2Y_N",
        "colab_type": "code",
        "colab": {},
        "outputId": "eb4ac66f-0fa0-4042-98a1-8fb26346e1dc"
      },
      "source": [
        "sc.scale_, sc.mean_"
      ],
      "execution_count": 0,
      "outputs": [
        {
          "output_type": "execute_result",
          "data": {
            "text/plain": [
              "(array([6.23195667, 6.63194772]), array([185.13158486,  74.8741039 ]))"
            ]
          },
          "metadata": {
            "tags": []
          },
          "execution_count": 14
        }
      ]
    },
    {
      "cell_type": "code",
      "metadata": {
        "id": "ujhNJCAR2Y_Q",
        "colab_type": "code",
        "colab": {}
      },
      "source": [
        ""
      ],
      "execution_count": 0,
      "outputs": []
    }
  ]
}